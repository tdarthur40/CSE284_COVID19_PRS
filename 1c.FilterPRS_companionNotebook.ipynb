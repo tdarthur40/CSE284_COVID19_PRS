{
 "cells": [
  {
   "cell_type": "code",
   "execution_count": 2,
   "metadata": {},
   "outputs": [],
   "source": [
    "suppressPackageStartupMessages(library(data.table))\n",
    "suppressPackageStartupMessages(library(dplyr))\n",
    "library(magrittr)"
   ]
  },
  {
   "cell_type": "code",
   "execution_count": 13,
   "metadata": {},
   "outputs": [],
   "source": [
    "## closely followed PRS tutorial referenced in github\n",
    "## filtering by heterozygosity and mismatched variants\n",
    "het = fread(\"bfiles/ALL_COVID.QC.het\")\n",
    "valid = het[F<=mean(F)+3*sd(F) & F>=mean(F)-3*sd(F)] \n",
    "\n",
    "bim = fread(\"bfiles/ALL_COVID.bim\")\n",
    "colnames(bim) = c(\"CHR\", \"SNP\", \"CM\", \"BP\", \"B.A1\", \"B.A2\")\n",
    "qc = read.table(\"bfiles/ALL_COVID.QC.snplist\", header = F, stringsAsFactors = F)\n",
    "gwas = fread(\"COVID19_HGI_A2_filtered.txt\")\n",
    "names(gwas)[2] = \"BP\"\n",
    "\n",
    "info = merge(bim, gwas, by=c(\"SNP\", \"CHR\", \"BP\")) %>%\n",
    "    .[SNP %in% qc[,\"V1\"]]\n",
    "names(info)[7] = \"A2\"\n",
    "names(info)[8] = \"A1\"\n",
    "\n",
    "complement = function(x){\n",
    "    switch (x,\n",
    "        \"A\" = \"T\",\n",
    "        \"C\" = \"G\",\n",
    "        \"T\" = \"A\",\n",
    "        \"G\" = \"C\",\n",
    "        return(NA)\n",
    "    )\n",
    "} \n",
    "\n",
    "info.match = info[A1 == B.A1 & A2 == B.A2, SNP]\n",
    "\n",
    "com.snps = info[sapply(B.A1, complement) == A1 &\n",
    "                    sapply(B.A2, complement) == A2, SNP]\n",
    "\n",
    "bim[SNP %in% com.snps, c(\"B.A1\", \"B.A2\") :=\n",
    "        list(sapply(B.A1, complement),\n",
    "            sapply(B.A2, complement))]\n",
    "\n",
    "recode.snps = info[B.A1==A2 & B.A2==A1, SNP]\n",
    "\n",
    "bim[SNP %in% recode.snps, c(\"B.A1\", \"B.A2\") :=\n",
    "        list(B.A2, B.A1)]\n",
    "\n",
    "\n",
    "com.recode = info[sapply(B.A1, complement) == A2 &\n",
    "                    sapply(B.A2, complement) == A1, SNP]\n",
    "\n",
    "bim[SNP %in% com.recode, c(\"B.A1\", \"B.A2\") :=\n",
    "        list(sapply(B.A2, complement),\n",
    "            sapply(B.A1, complement))]\n",
    "mismatch = bim[!(SNP %in% info.match |\n",
    "                    SNP %in% com.snps |\n",
    "                    SNP %in% recode.snps |\n",
    "                    SNP %in% com.recode), SNP]\n",
    "write.table(mismatch, \"bfiles/ALL_COVID.mismatch\", quote=F, row.names=F, col.names=F)\n",
    "fwrite(bim[,c(\"SNP\", \"B.A1\")], \"bfiles/ALL_COVID.a1\", col.names=F, sep=\"\\t\")\n",
    "fwrite(valid[,c(\"FID\",\"IID\")], \"bfiles/ALL_COVID.valid.sample\", sep=\"\\t\") "
   ]
  },
  {
   "cell_type": "code",
   "execution_count": 163,
   "metadata": {},
   "outputs": [
    {
     "data": {
      "text/html": [
       "327"
      ],
      "text/latex": [
       "327"
      ],
      "text/markdown": [
       "327"
      ],
      "text/plain": [
       "[1] 327"
      ]
     },
     "metadata": {},
     "output_type": "display_data"
    },
    {
     "data": {
      "text/html": [
       "100"
      ],
      "text/latex": [
       "100"
      ],
      "text/markdown": [
       "100"
      ],
      "text/plain": [
       "[1] 100"
      ]
     },
     "metadata": {},
     "output_type": "display_data"
    },
    {
     "name": "stdout",
     "output_type": "stream",
     "text": [
      "  Threshold         R2            P      BETA       SE\n",
      "1  0.000001 0.08270392 0.0003606411 -13.71551 3.748008\n"
     ]
    }
   ],
   "source": [
    "## make validation and training sets\n",
    "p.threshold = c(\"0.000001\", \"0.00001\", \"0.001\",\"0.05\",\"0.1\",\"0.2\",\"0.3\",\"0.4\",\"0.5\")\n",
    "\n",
    "phenotype = read.table(\"/frazer01/home/jennifer/private/cse284_project/analysis/boogie/Arvados-Blood-Types-and-Ethnicity/AnalyzeBloodByEthnicity/433-1000Genomes/outputBlood.csv\", sep=\",\",header=T)\n",
    "\n",
    "pcs = read.table(\"ALL_COVID.eigenvec\", header=F)\n",
    "\n",
    "colnames(pcs) = c(\"FID\", \"IID\", paste0(\"PC\",1:6))\n",
    "\n",
    "names(phenotype)[1] = \"FID\"\n",
    "phenotype$IID = phenotype$FID\n",
    "phenotype$Blood.Type[phenotype$Blood.Type != \"O\"] = 0\n",
    "phenotype$Blood.Type[phenotype$Blood.Type == \"O\"] = 1\n",
    "\n",
    "training = phenotype[1:327,]\n",
    "validation = phenotype[328:nrow(phenotype),]\n",
    "\n",
    "pheno = merge(training, pcs, by=c(\"FID\",\"IID\"))\n",
    "\n",
    "null.r2 = summary(lm(Blood.Type~., data=pheno[,!colnames(pheno)%in%c(\"FID\",\"IID\")]))$r.squared\n",
    "prs.result = NULL\n",
    "for(i in p.threshold){\n",
    "    pheno.prs = merge(pheno, \n",
    "                        read.table(paste0(\"ALL_COVID.\",i,\".profile\"), header=T)[,c(\"FID\",\"IID\", \"SCORE\")],\n",
    "                        by=c(\"FID\", \"IID\"))\n",
    "    model = summary(lm(Blood.Type~., data=pheno.prs[,!colnames(pheno.prs)%in%c(\"FID\",\"IID\")]))\n",
    "    model.r2 = model$r.squared\n",
    "    prs.r2 = model.r2-null.r2\n",
    "    prs.coef = model$coeff[\"SCORE\",]\n",
    "    prs.result = rbind(prs.result, \n",
    "        data.frame(Threshold=i, R2=prs.r2, \n",
    "                    P=as.numeric(prs.coef[4]), \n",
    "                    BETA=as.numeric(prs.coef[1]),\n",
    "                    SE=as.numeric(prs.coef[2])))\n",
    "}\n",
    "\n",
    "fwrite(training, \"~/cse284/bfiles/training_set.txt\",\n",
    "      sep='\\t', quote=F, row.names=F)\n",
    "\n",
    "fwrite(validation, \"~/cse284/bfiles/validation_set.txt\",\n",
    "      sep='\\t', quote=F, row.names=F)"
   ]
  },
  {
   "cell_type": "code",
   "execution_count": null,
   "metadata": {},
   "outputs": [],
   "source": []
  }
 ],
 "metadata": {
  "kernelspec": {
   "display_name": "R 4.0",
   "language": "R",
   "name": "ir40"
  },
  "language_info": {
   "codemirror_mode": "r",
   "file_extension": ".r",
   "mimetype": "text/x-r-source",
   "name": "R",
   "pygments_lexer": "r",
   "version": "4.0.1"
  }
 },
 "nbformat": 4,
 "nbformat_minor": 2
}
